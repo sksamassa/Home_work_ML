{
  "nbformat": 4,
  "nbformat_minor": 0,
  "metadata": {
    "colab": {
      "provenance": []
    },
    "kernelspec": {
      "name": "python3",
      "display_name": "Python 3"
    },
    "language_info": {
      "name": "python"
    }
  },
  "cells": [
    {
      "cell_type": "markdown",
      "source": [
        "# Семестровое Задание"
      ],
      "metadata": {
        "id": "tSKzI8GhSvup"
      }
    },
    {
      "cell_type": "markdown",
      "source": [
        "# Food and their calories\n",
        "### Variety of food and their calories based on serving\n",
        "\n",
        "Ссылка на проект https://www.kaggle.com/datasets/vaishnavivenkatesan/food-and-their-calories"
      ],
      "metadata": {
        "id": "3DYQTi6WS5Cd"
      }
    },
    {
      "cell_type": "code",
      "source": [],
      "metadata": {
        "id": "Adh9S-qwWSzS"
      },
      "execution_count": null,
      "outputs": []
    },
    {
      "cell_type": "markdown",
      "source": [
        "# About Dataset\n",
        "### Context\n",
        "The data set consist of food such as soup,ice-cream,pizza,vegetables,fruits etc, the serving for which the calories are calculated.\n",
        "\n",
        "### Content\n",
        "There are three columns for this dataset: Food Serving Calories\n",
        "\n",
        "### Inspiration\n",
        "We would always wanted to prepare the diet chart based in the calories. This the dataset then."
      ],
      "metadata": {
        "id": "5QpdMaagT7ml"
      }
    },
    {
      "cell_type": "code",
      "execution_count": null,
      "metadata": {
        "id": "tTEJ5xeUSI_5"
      },
      "outputs": [],
      "source": []
    },
    {
      "cell_type": "markdown",
      "source": [
        "Load the necessary libraries"
      ],
      "metadata": {
        "id": "4tIzCVlsgM5A"
      }
    },
    {
      "cell_type": "code",
      "source": [
        "import pandas as pd\n",
        "import matplotlib.pyplot as plt"
      ],
      "metadata": {
        "id": "glZlSSPlgURR"
      },
      "execution_count": null,
      "outputs": []
    },
    {
      "cell_type": "markdown",
      "source": [
        "Загрузка данных"
      ],
      "metadata": {
        "id": "46xWlJb3gbRn"
      }
    },
    {
      "cell_type": "code",
      "source": [
        "# Загрузка данных\n",
        "df = pd.read_csv(\"Food and Calories - Sheet1.csv\")"
      ],
      "metadata": {
        "id": "Vz-egS4OgsGL"
      },
      "execution_count": null,
      "outputs": []
    },
    {
      "cell_type": "code",
      "source": [
        "# Посмотрим на первые несколько строк датасета\n",
        "print(df.head())"
      ],
      "metadata": {
        "colab": {
          "base_uri": "https://localhost:8080/"
        },
        "id": "SEiRjuFmg1qE",
        "outputId": "33854a01-3ce8-4163-b54f-314b414492c9"
      },
      "execution_count": null,
      "outputs": [
        {
          "output_type": "stream",
          "name": "stdout",
          "text": [
            "        Food              Serving Calories\n",
            "0  Artichoke  1 artichoke (128 g)   60 cal\n",
            "1    Arugula         1 leaf (2 g)    1 cal\n",
            "2  Asparagus       1 spear (12 g)    2 cal\n",
            "3  Aubergine  1 aubergine (458 g)  115 cal\n",
            "4   Beetroot        1 beet (82 g)   35 cal\n"
          ]
        }
      ]
    },
    {
      "cell_type": "code",
      "source": [
        "# Посмотрим общую информацию о данных\n",
        "print(df.info())"
      ],
      "metadata": {
        "colab": {
          "base_uri": "https://localhost:8080/"
        },
        "id": "hYG9iOR3hBFC",
        "outputId": "96c04856-e5f4-4ca9-fad3-ee0d482df994"
      },
      "execution_count": null,
      "outputs": [
        {
          "output_type": "stream",
          "name": "stdout",
          "text": [
            "<class 'pandas.core.frame.DataFrame'>\n",
            "RangeIndex: 562 entries, 0 to 561\n",
            "Data columns (total 3 columns):\n",
            " #   Column    Non-Null Count  Dtype \n",
            "---  ------    --------------  ----- \n",
            " 0   Food      562 non-null    object\n",
            " 1   Serving   562 non-null    object\n",
            " 2   Calories  562 non-null    object\n",
            "dtypes: object(3)\n",
            "memory usage: 13.3+ KB\n",
            "None\n"
          ]
        }
      ]
    },
    {
      "cell_type": "code",
      "source": [
        "# Проверим наличие пропущенных значений\n",
        "print(df.isnull().sum())"
      ],
      "metadata": {
        "colab": {
          "base_uri": "https://localhost:8080/"
        },
        "id": "ZWNU_Su9hE92",
        "outputId": "5e2bfae8-bfae-40e5-b3cd-c9e8f4f76ace"
      },
      "execution_count": null,
      "outputs": [
        {
          "output_type": "stream",
          "name": "stdout",
          "text": [
            "Food        0\n",
            "Serving     0\n",
            "Calories    0\n",
            "dtype: int64\n"
          ]
        }
      ]
    },
    {
      "cell_type": "code",
      "source": [
        "# Опишем числовые признаки\n",
        "print(df.describe())"
      ],
      "metadata": {
        "colab": {
          "base_uri": "https://localhost:8080/"
        },
        "id": "lYU9uPc5hLnU",
        "outputId": "7b571e92-5949-44bf-997a-cdaef6bb1ea8"
      },
      "execution_count": null,
      "outputs": [
        {
          "output_type": "stream",
          "name": "stdout",
          "text": [
            "          Food         Serving Calories\n",
            "count      562             562      562\n",
            "unique     541             381      307\n",
            "top     Olives  1 tbsp (14 ml)  124 cal\n",
            "freq         2              30       15\n"
          ]
        }
      ]
    },
    {
      "cell_type": "code",
      "source": [
        "# Построим гистограмму распределения калорийности\n",
        "import matplotlib.pyplot as plt"
      ],
      "metadata": {
        "id": "Sf3U9QiOhT_N"
      },
      "execution_count": null,
      "outputs": []
    },
    {
      "cell_type": "markdown",
      "source": [
        "Предобработка данных"
      ],
      "metadata": {
        "id": "Rd_2yP7RkfwJ"
      }
    },
    {
      "cell_type": "code",
      "source": [
        "# Проверим уникальные значения в столбце \"Food\"\n",
        "print(df['Food'].unique())\n",
        "\n",
        "# Приведем все значения столбца \"Food\" к нижнему регистру\n",
        "df['Food'] = df['Food'].str.lower()\n",
        "\n",
        "# Проверим уникальные значения после преобразования\n",
        "print(df['Food'].unique())\n",
        "\n",
        "# Преобразуем категориальный признак \"Food\" в числовой при помощи кодировки\n",
        "from sklearn.preprocessing import LabelEncoder\n",
        "\n",
        "label_encoder = LabelEncoder()\n",
        "df['Food_encoded'] = label_encoder.fit_transform(df['Food'])\n",
        "\n",
        "# Посмотрим на уникальные значения после кодировки\n",
        "print(df['Food_encoded'].unique())\n",
        "\n",
        "# Удалим столбец \"Food\", так как у нас есть его числовое представление\n",
        "df.drop(columns=['Food'], inplace=True)\n",
        "\n",
        "# Проверим первые строки датасета после преобразований\n",
        "print(df.head())"
      ],
      "metadata": {
        "colab": {
          "base_uri": "https://localhost:8080/"
        },
        "id": "JHLt13ZYkXxV",
        "outputId": "1baa3411-2c41-4831-81f3-020d49fa839f"
      },
      "execution_count": null,
      "outputs": [
        {
          "output_type": "stream",
          "name": "stdout",
          "text": [
            "['Artichoke' 'Arugula' 'Asparagus' 'Aubergine' 'Beetroot' 'Bell Pepper'\n",
            " 'Black Olives' 'Broccoli' 'Brussels Sprouts' 'Cabbage' 'Capsicum'\n",
            " 'Carrot' 'Cauliflower' 'Celery' 'Chard' 'Cherry Tomato' 'Chicory'\n",
            " 'Chinese Cabbage' 'Chives' 'Collard Greens' 'Corn' 'Courgette'\n",
            " 'Creamed Spinach' 'Cucumber' 'Eggplant' 'Endive' 'Fennel' 'Garlic'\n",
            " 'Gherkin' 'Gourd' 'Green Beans' 'Green Olives' 'Green Onion'\n",
            " 'Horseradish' 'Kale' 'Kohlrabi' 'Kumara' 'Leek' 'Lettuce' 'Mushrooms'\n",
            " 'Mustard Greens' 'Nori' 'Okra' 'Olives' 'Onion' 'Parsnips' 'Peas'\n",
            " 'Pepper' 'Potato' 'Pumpkin' 'Radishes' 'Red Cabbage' 'Rutabaga'\n",
            " 'Shallots' 'Spinach' 'Squash' 'Sweet Potato' 'Tomato' 'Turnip Greens'\n",
            " 'Turnips' 'Wasabi' 'Winter Squash' 'Zucchini' 'Acai' 'Apple' 'Applesauce'\n",
            " 'Apricot' 'Avocado' 'Banana' 'Blackberries' 'Blood Oranges' 'Blueberries'\n",
            " 'Cantaloupe' 'Cherries' 'Clementine' 'Cranberries' 'Currants'\n",
            " 'Custard Apple' 'Dates' 'Figs' 'Fruit salad' 'Grapes' 'Greengage' 'Guava'\n",
            " 'Jackfruit' 'Jujube' 'Kiwi' 'Lemon' 'Lime' 'Lychees' 'Mandarin Oranges'\n",
            " 'Mango' 'Minneola' 'Mulberries' 'Nectarine' 'Orange' 'Papaya'\n",
            " 'Passion Fruit' 'Peach' 'Pear' 'Persimmon' 'Physalis' 'Pineapple'\n",
            " 'Plantains' 'Plum' 'Pomegranate' 'Quince' 'Raisins' 'Rambutan'\n",
            " 'Raspberries' 'Rhubarb' 'Starfruit' 'Strawberries' 'Tamarind' 'Tangerine'\n",
            " 'Watermelon' 'Baby Back Ribs' 'Bacon and Eggs' 'Baked Beans' 'BBQ Ribs'\n",
            " 'Beef Stew' 'Biryani' 'Black Pudding' 'Black Rice' 'BLT' 'Brown Rice'\n",
            " 'Burrito' 'Butter Chicken' 'California Roll' 'Chicken Caesar Salad'\n",
            " 'Chicken Fried Steak' 'Chicken Marsala' 'Chicken Parmesan'\n",
            " 'Chicken Pot Pie' 'Chicken Tikka Masala' 'Chili con Carne' 'Chimichanga'\n",
            " 'Cobb Salad' 'Corn Dog' 'Corned Beef Hash' 'Cottage Pie' 'Dal'\n",
            " 'Deviled Eggs' 'Dim Sum' 'Dosa' 'Enchiladas' 'Fajita' 'Fish and Chips'\n",
            " 'Fried Rice' 'Fried Shrimp' 'Grilled Cheese Sandwich'\n",
            " 'Ham and Cheese Sandwich' 'Hummus' 'Jambalaya' 'Kebab' 'Lasagne'\n",
            " 'Mac and Cheese' 'Macaroni and Cheese' 'Mashed Potatoes' 'Meat Pie'\n",
            " 'Meatloaf' 'Naan' 'Orange Chicken' 'Pad Thai' 'Paella' 'Paratha'\n",
            " 'Pea Soup' 'Peanut Butter Sandwich' 'Peking Duck' 'Philly Cheese Steak'\n",
            " 'Pizza' 'Pork Chop' 'Potato Salad' 'Pulled Pork Sandwich' 'Ramen'\n",
            " 'Ravioli' 'Reuben Sandwich' 'Roast Beef' 'Roast Dinner' 'Samosa'\n",
            " 'Sausage Roll' 'Sausage Rolls' 'Shepherds Pie' 'Shrimp Cocktail'\n",
            " 'Sloppy Joe' 'Sloppy Joes' 'Spaghetti Bolognese' 'Spring Roll'\n",
            " 'Spring Rolls' 'Taco' 'Tandoori Chicken' 'Yorkshire Pudding' 'Amaranth'\n",
            " 'Barley' 'Barley Groats' 'Buckwheat' 'Buckwheat Groats' 'Corn Waffles'\n",
            " 'Cornmeal' 'Cornstarch' 'Couscous' 'Cracker' 'Durum Wheat Semolina'\n",
            " 'Flaxseed' 'Freekeh' 'Gluten' 'Grissini' 'Kamut' 'Millet' 'Millet Flour'\n",
            " 'Millet Gruel' 'Oat Bran' 'Pearl Barley' 'Polenta' 'Prawn Crackers'\n",
            " 'Pretzel Sticks' 'Quinoa' 'Rusk' 'Rye Bran' 'Sago' 'Savoury Biscuits'\n",
            " 'Shortbread' 'Spelt' 'Spelt Bran' 'Spelt Semolina' 'Sunflower Seeds'\n",
            " 'Tortilla' 'Tortilla Chips' 'Wheat Bran' 'Wheat Germ' 'Wheat Gluten'\n",
            " 'Wheat Semolina' 'Wheat Starch' 'Whole Grain Wheat' 'Wholegrain Oat'\n",
            " 'Almond Oil' 'Apricot Kernel Oil' 'Argan Oil' 'Avocado Oil' 'Babassu Oil'\n",
            " 'Canola Oil' 'Coconut Oil' 'Corn Oil' 'Cottonseed Oil' 'Flaxseed Oil'\n",
            " 'Grape Seed Oil' 'Hazelnut Oil' 'Linseed Oil' 'Menhaden Oil'\n",
            " 'Mustard Oil' 'Oat Oil' 'Olive Oil' 'Palm Kernel Oil' 'Palm Oil'\n",
            " 'Peanut Oil' 'Poppy Seed Oil' 'Pumpkin Seed Oil' 'Rice Bran Oil'\n",
            " 'Safflower Oil' 'Salmon Oil' 'Sesame Oil' 'Shea Oil' 'Soy Oil'\n",
            " 'Sunflower Oil' 'Tomato Seed Oil' 'Vegetable Oil' 'Walnut Oil'\n",
            " 'Wheat Germ Oil' 'Alphabet Soup' 'Bean Stew' 'Beef Bouillon'\n",
            " 'Beef Noodle Soup' 'Beef Soup' 'Bouillon' 'Broccoli Cheese Soup'\n",
            " 'Broccoli Soup' 'Cabbage Soup' 'Carrot Ginger Soup' 'Carrot Soup'\n",
            " 'Chicken Bouillon' 'Chicken Broth' 'Chicken Gumbo Soup'\n",
            " 'Chicken Noodle Soup' 'Chicken Stock' 'Chicken Vegetable Soup'\n",
            " 'Chicken with Rice Soup' 'Cream of Asparagus Soup'\n",
            " 'Cream of Broccoli Soup' 'Cream of Celery Soup' 'Cream of Chicken Soup'\n",
            " 'Cream of Mushroom Soup' 'Cream of Onion Soup' 'Cream of Potato Soup'\n",
            " 'Creamy Chicken Noodle Soup' 'French Onion Soup' 'Golden Mushroom Soup'\n",
            " 'Goulash' 'Instant Ramen' 'Lentil Soup' 'Lobster Bisque Soup'\n",
            " 'Meatball Soup' 'Minestrone' 'Mushroom Soup' 'Noodle Soup' 'Onion Soup'\n",
            " 'Oxtail Soup' 'Potato Soup' 'Pumpkin Soup' 'Scotch Broth' 'Succotash'\n",
            " 'Thai Soup' 'Tomato Rice Soup' 'Tomato Soup' 'Vegetable Beef Soup'\n",
            " 'Vegetable Broth' 'Vegetable Soup' 'Vegetable Stock' 'Wedding Soup'\n",
            " 'Baskin-Robbins' 'Ben and Jerry’s' 'Butter Pecan Ice Cream' 'Carvel'\n",
            " 'Chocolate Chip Ice Cream' 'Chocolate Ice Cream' 'Ciao Bella'\n",
            " 'Coffee Ice Cream' 'Cold Stone Creamery' 'Cookie Dough Ice Cream'\n",
            " 'Crunchie McFlurry' 'Dairy Milk McFlurry' 'Dippin Dots' 'Double Rainbow'\n",
            " 'Drumsticks' 'French Vanilla Ice Cream' 'Friendly’s' 'Healthy Choice'\n",
            " 'Hot Fudge Sundae' 'Ice Cream Sandwich' 'Ice Cream Sundae' 'Ice Milk'\n",
            " 'Magnolia' 'Magnum' 'Magnum Almond' 'Magnum Double Caramel'\n",
            " 'Magnum Double Chocolate' 'Magnum Gold' 'Magnum White' 'McFlurry'\n",
            " 'McFlurry Oreo' 'Mini Milk' 'Mint Chocolate Chip Ice Cream'\n",
            " 'Rocky Road Ice Cream' 'Schwan’s' 'Smarties McFlurry'\n",
            " 'Snickers Ice Cream' 'Soft Serve' 'Solero' 'Strawberry Ice Cream'\n",
            " 'Strawberry Sundae' 'Sundae' 'Turkey Hill' 'Vanilla Cone'\n",
            " 'Vanilla Ice Cream' 'Cannelloni' 'Capellini' 'Cappelletti'\n",
            " 'Cellophane Noodles' 'Cheese Tortellini' 'Dampfnudel' 'Dumpling Dough'\n",
            " 'Egg Noodles' 'Farfalle' 'Fettuccine' 'Fusilli' 'Glass Noodles'\n",
            " 'Lasagne Sheets' 'Linguine' 'Low Carb Pasta' 'Macaroni' 'Manicotti'\n",
            " 'Mostaccioli' 'Orecchiette' 'Orzo' 'Penne' 'Penne Rigate' 'Pierogi'\n",
            " 'Rigatoni' 'Rotini' 'Shells' 'Shirataki Noodles' 'Soy Noodles' 'Spaetzle'\n",
            " 'Spaghetti' 'Spinach Tortellini' 'Spirelli' 'Tagliatelle' 'Tortellini'\n",
            " 'Vermicelli' 'Whole Grain Noodles' 'Whole Grain Spaghetti' 'Ziti'\n",
            " 'BBQ Chicken Pizza' 'BBQ Pizza' 'Beef Pizza' 'Bianca Pizza'\n",
            " 'Buffalo Chicken Pizza' 'Calabrese Pizza' 'Calzone' 'Capricciosa Pizza'\n",
            " 'Cheese Pizza' 'Chicken Pizza' 'Deep Dish Pizza'\n",
            " 'Dominos Philly Cheese Steak Pizza' 'Four Cheese Pizza'\n",
            " 'Goat Cheese Pizza' 'Grilled Pizza' 'Hawaiian Pizza' 'Margherita Pizza'\n",
            " 'Mozzarella Pizza' 'Mushroom Pizza' 'Napoli Pizza' 'New York Style Pizza'\n",
            " 'Pepperoni Pizza' 'Pizza Dough' 'Pizza Hut Stuffed Crust Pizza'\n",
            " 'Pizza Hut Supreme Pizza' 'Pizza Rolls' 'Quattro Formaggi Pizza'\n",
            " 'Red Pepper Pizza' 'Salami Pizza' 'Sausage Pizza' 'Seafood Pizza'\n",
            " 'Shrimp Pizza' 'Sicilian Pizza' 'Spinach Feta Pizza' 'Spinach Pizza'\n",
            " 'Stuffed Crust Pizza' 'Tarte Flambée' 'Thin Crust Pizza' 'Tuna Pizza'\n",
            " 'Vegetable Pizza' 'Vegetarian Pizza' 'Veggie Pizza' 'White Pizza'\n",
            " 'Acerola' 'Asian Pear' 'Breadfruit' 'Cantaloupe Melon' 'Casaba Melon'\n",
            " 'Cherimoya' 'Dragon Fruit' 'Durian' 'Feijoa' 'Galia Melon' 'Grapefruit'\n",
            " 'Honeydew' 'Kumquat' 'Lychee' 'Mangosteen' 'Maracuya'\n",
            " 'Maraschino Cherries' 'Muskmelon' 'Noni' 'Pink Grapefruit' 'Plantain'\n",
            " 'Pomelo' 'Prickly Pear' 'Sapodilla' 'Soursop Fruit' 'Star Fruit'\n",
            " 'Arby’s Grand Turkey Club' 'Arby’s Reuben' 'Arby’s Roast Beef Classic'\n",
            " 'Arby’s Roast Beef Max' 'BBQ Rib' 'Bean Burrito' 'Big N’ Tasty'\n",
            " 'Bratwurst' 'Burger King Angry Whopper' 'Burger King Double Whopper'\n",
            " 'Burger King Double Whopper with Cheese'\n",
            " 'Burger King Original Chicken Sandwich'\n",
            " 'Burger King Premium Alaskan Fish Sandwich' 'Burger King Triple Whopper'\n",
            " 'Burger King Whopper' 'Burger King Whopper Jr.'\n",
            " 'Burger King Whopper with Cheese' 'Cheeseburger' 'Chicken Breast'\n",
            " 'Chicken Fajita' 'Chicken McNuggets' 'Chicken Nuggets' 'Chicken Pizziola'\n",
            " 'Chicken Sandwich' 'Chicken Teriyaki Sandwich' 'Chicken Wings'\n",
            " 'Chop Suey' 'Curly Fries' 'Double Cheeseburger' 'Egg Roll' 'Falafel'\n",
            " 'Filet-o-Fish' 'Fish Sandwich' 'French Fries' 'Grilled Chicken Salad'\n",
            " 'Ham Sandwich' 'Hamburger' 'Hot Dog' 'Italian BMT' 'Lasagna'\n",
            " 'McDonald’s Big Mac' 'McDonald’s Cheeseburger'\n",
            " 'McDonald’s Chicken Nuggets' 'McDonald’s Double Cheeseburger'\n",
            " 'McDonald’s Filet-o-Fish' 'McDonald’s McChicken' 'McDonald’s McDouble'\n",
            " 'McDonald’s McMuffi Egg' 'McDonald’s McRib' 'McDonald’s Mighty Wings'\n",
            " 'McRib' 'Meatball Sandwich' 'Nachos with Cheese' 'Onion Rings' 'Poutine'\n",
            " 'Smoked Salmon' 'Spicy Italian' 'Subway Club Sandwich' 'Tortilla Wrap'\n",
            " 'Tuna' 'Turkey' 'Veggie Burger' 'Veggie Delight' 'Veggie Patty'\n",
            " 'Wendy’s Baconator' 'Wendy’s Jr. Bacon Cheeseburger'\n",
            " 'Wendy’s Jr. Cheeseburger' 'Wendy’s Son of Baconator' 'Whopper' 'Zinger'\n",
            " 'Zinger Burger']\n",
            "['artichoke' 'arugula' 'asparagus' 'aubergine' 'beetroot' 'bell pepper'\n",
            " 'black olives' 'broccoli' 'brussels sprouts' 'cabbage' 'capsicum'\n",
            " 'carrot' 'cauliflower' 'celery' 'chard' 'cherry tomato' 'chicory'\n",
            " 'chinese cabbage' 'chives' 'collard greens' 'corn' 'courgette'\n",
            " 'creamed spinach' 'cucumber' 'eggplant' 'endive' 'fennel' 'garlic'\n",
            " 'gherkin' 'gourd' 'green beans' 'green olives' 'green onion'\n",
            " 'horseradish' 'kale' 'kohlrabi' 'kumara' 'leek' 'lettuce' 'mushrooms'\n",
            " 'mustard greens' 'nori' 'okra' 'olives' 'onion' 'parsnips' 'peas'\n",
            " 'pepper' 'potato' 'pumpkin' 'radishes' 'red cabbage' 'rutabaga'\n",
            " 'shallots' 'spinach' 'squash' 'sweet potato' 'tomato' 'turnip greens'\n",
            " 'turnips' 'wasabi' 'winter squash' 'zucchini' 'acai' 'apple' 'applesauce'\n",
            " 'apricot' 'avocado' 'banana' 'blackberries' 'blood oranges' 'blueberries'\n",
            " 'cantaloupe' 'cherries' 'clementine' 'cranberries' 'currants'\n",
            " 'custard apple' 'dates' 'figs' 'fruit salad' 'grapes' 'greengage' 'guava'\n",
            " 'jackfruit' 'jujube' 'kiwi' 'lemon' 'lime' 'lychees' 'mandarin oranges'\n",
            " 'mango' 'minneola' 'mulberries' 'nectarine' 'orange' 'papaya'\n",
            " 'passion fruit' 'peach' 'pear' 'persimmon' 'physalis' 'pineapple'\n",
            " 'plantains' 'plum' 'pomegranate' 'quince' 'raisins' 'rambutan'\n",
            " 'raspberries' 'rhubarb' 'starfruit' 'strawberries' 'tamarind' 'tangerine'\n",
            " 'watermelon' 'baby back ribs' 'bacon and eggs' 'baked beans' 'bbq ribs'\n",
            " 'beef stew' 'biryani' 'black pudding' 'black rice' 'blt' 'brown rice'\n",
            " 'burrito' 'butter chicken' 'california roll' 'chicken caesar salad'\n",
            " 'chicken fried steak' 'chicken marsala' 'chicken parmesan'\n",
            " 'chicken pot pie' 'chicken tikka masala' 'chili con carne' 'chimichanga'\n",
            " 'cobb salad' 'corn dog' 'corned beef hash' 'cottage pie' 'dal'\n",
            " 'deviled eggs' 'dim sum' 'dosa' 'enchiladas' 'fajita' 'fish and chips'\n",
            " 'fried rice' 'fried shrimp' 'grilled cheese sandwich'\n",
            " 'ham and cheese sandwich' 'hummus' 'jambalaya' 'kebab' 'lasagne'\n",
            " 'mac and cheese' 'macaroni and cheese' 'mashed potatoes' 'meat pie'\n",
            " 'meatloaf' 'naan' 'orange chicken' 'pad thai' 'paella' 'paratha'\n",
            " 'pea soup' 'peanut butter sandwich' 'peking duck' 'philly cheese steak'\n",
            " 'pizza' 'pork chop' 'potato salad' 'pulled pork sandwich' 'ramen'\n",
            " 'ravioli' 'reuben sandwich' 'roast beef' 'roast dinner' 'samosa'\n",
            " 'sausage roll' 'sausage rolls' 'shepherds pie' 'shrimp cocktail'\n",
            " 'sloppy joe' 'sloppy joes' 'spaghetti bolognese' 'spring roll'\n",
            " 'spring rolls' 'taco' 'tandoori chicken' 'yorkshire pudding' 'amaranth'\n",
            " 'barley' 'barley groats' 'buckwheat' 'buckwheat groats' 'corn waffles'\n",
            " 'cornmeal' 'cornstarch' 'couscous' 'cracker' 'durum wheat semolina'\n",
            " 'flaxseed' 'freekeh' 'gluten' 'grissini' 'kamut' 'millet' 'millet flour'\n",
            " 'millet gruel' 'oat bran' 'pearl barley' 'polenta' 'prawn crackers'\n",
            " 'pretzel sticks' 'quinoa' 'rusk' 'rye bran' 'sago' 'savoury biscuits'\n",
            " 'shortbread' 'spelt' 'spelt bran' 'spelt semolina' 'sunflower seeds'\n",
            " 'tortilla' 'tortilla chips' 'wheat bran' 'wheat germ' 'wheat gluten'\n",
            " 'wheat semolina' 'wheat starch' 'whole grain wheat' 'wholegrain oat'\n",
            " 'almond oil' 'apricot kernel oil' 'argan oil' 'avocado oil' 'babassu oil'\n",
            " 'canola oil' 'coconut oil' 'corn oil' 'cottonseed oil' 'flaxseed oil'\n",
            " 'grape seed oil' 'hazelnut oil' 'linseed oil' 'menhaden oil'\n",
            " 'mustard oil' 'oat oil' 'olive oil' 'palm kernel oil' 'palm oil'\n",
            " 'peanut oil' 'poppy seed oil' 'pumpkin seed oil' 'rice bran oil'\n",
            " 'safflower oil' 'salmon oil' 'sesame oil' 'shea oil' 'soy oil'\n",
            " 'sunflower oil' 'tomato seed oil' 'vegetable oil' 'walnut oil'\n",
            " 'wheat germ oil' 'alphabet soup' 'bean stew' 'beef bouillon'\n",
            " 'beef noodle soup' 'beef soup' 'bouillon' 'broccoli cheese soup'\n",
            " 'broccoli soup' 'cabbage soup' 'carrot ginger soup' 'carrot soup'\n",
            " 'chicken bouillon' 'chicken broth' 'chicken gumbo soup'\n",
            " 'chicken noodle soup' 'chicken stock' 'chicken vegetable soup'\n",
            " 'chicken with rice soup' 'cream of asparagus soup'\n",
            " 'cream of broccoli soup' 'cream of celery soup' 'cream of chicken soup'\n",
            " 'cream of mushroom soup' 'cream of onion soup' 'cream of potato soup'\n",
            " 'creamy chicken noodle soup' 'french onion soup' 'golden mushroom soup'\n",
            " 'goulash' 'instant ramen' 'lentil soup' 'lobster bisque soup'\n",
            " 'meatball soup' 'minestrone' 'mushroom soup' 'noodle soup' 'onion soup'\n",
            " 'oxtail soup' 'potato soup' 'pumpkin soup' 'scotch broth' 'succotash'\n",
            " 'thai soup' 'tomato rice soup' 'tomato soup' 'vegetable beef soup'\n",
            " 'vegetable broth' 'vegetable soup' 'vegetable stock' 'wedding soup'\n",
            " 'baskin-robbins' 'ben and jerry’s' 'butter pecan ice cream' 'carvel'\n",
            " 'chocolate chip ice cream' 'chocolate ice cream' 'ciao bella'\n",
            " 'coffee ice cream' 'cold stone creamery' 'cookie dough ice cream'\n",
            " 'crunchie mcflurry' 'dairy milk mcflurry' 'dippin dots' 'double rainbow'\n",
            " 'drumsticks' 'french vanilla ice cream' 'friendly’s' 'healthy choice'\n",
            " 'hot fudge sundae' 'ice cream sandwich' 'ice cream sundae' 'ice milk'\n",
            " 'magnolia' 'magnum' 'magnum almond' 'magnum double caramel'\n",
            " 'magnum double chocolate' 'magnum gold' 'magnum white' 'mcflurry'\n",
            " 'mcflurry oreo' 'mini milk' 'mint chocolate chip ice cream'\n",
            " 'rocky road ice cream' 'schwan’s' 'smarties mcflurry'\n",
            " 'snickers ice cream' 'soft serve' 'solero' 'strawberry ice cream'\n",
            " 'strawberry sundae' 'sundae' 'turkey hill' 'vanilla cone'\n",
            " 'vanilla ice cream' 'cannelloni' 'capellini' 'cappelletti'\n",
            " 'cellophane noodles' 'cheese tortellini' 'dampfnudel' 'dumpling dough'\n",
            " 'egg noodles' 'farfalle' 'fettuccine' 'fusilli' 'glass noodles'\n",
            " 'lasagne sheets' 'linguine' 'low carb pasta' 'macaroni' 'manicotti'\n",
            " 'mostaccioli' 'orecchiette' 'orzo' 'penne' 'penne rigate' 'pierogi'\n",
            " 'rigatoni' 'rotini' 'shells' 'shirataki noodles' 'soy noodles' 'spaetzle'\n",
            " 'spaghetti' 'spinach tortellini' 'spirelli' 'tagliatelle' 'tortellini'\n",
            " 'vermicelli' 'whole grain noodles' 'whole grain spaghetti' 'ziti'\n",
            " 'bbq chicken pizza' 'bbq pizza' 'beef pizza' 'bianca pizza'\n",
            " 'buffalo chicken pizza' 'calabrese pizza' 'calzone' 'capricciosa pizza'\n",
            " 'cheese pizza' 'chicken pizza' 'deep dish pizza'\n",
            " 'dominos philly cheese steak pizza' 'four cheese pizza'\n",
            " 'goat cheese pizza' 'grilled pizza' 'hawaiian pizza' 'margherita pizza'\n",
            " 'mozzarella pizza' 'mushroom pizza' 'napoli pizza' 'new york style pizza'\n",
            " 'pepperoni pizza' 'pizza dough' 'pizza hut stuffed crust pizza'\n",
            " 'pizza hut supreme pizza' 'pizza rolls' 'quattro formaggi pizza'\n",
            " 'red pepper pizza' 'salami pizza' 'sausage pizza' 'seafood pizza'\n",
            " 'shrimp pizza' 'sicilian pizza' 'spinach feta pizza' 'spinach pizza'\n",
            " 'stuffed crust pizza' 'tarte flambée' 'thin crust pizza' 'tuna pizza'\n",
            " 'vegetable pizza' 'vegetarian pizza' 'veggie pizza' 'white pizza'\n",
            " 'acerola' 'asian pear' 'breadfruit' 'cantaloupe melon' 'casaba melon'\n",
            " 'cherimoya' 'dragon fruit' 'durian' 'feijoa' 'galia melon' 'grapefruit'\n",
            " 'honeydew' 'kumquat' 'lychee' 'mangosteen' 'maracuya'\n",
            " 'maraschino cherries' 'muskmelon' 'noni' 'pink grapefruit' 'plantain'\n",
            " 'pomelo' 'prickly pear' 'sapodilla' 'soursop fruit' 'star fruit'\n",
            " 'arby’s grand turkey club' 'arby’s reuben' 'arby’s roast beef classic'\n",
            " 'arby’s roast beef max' 'bbq rib' 'bean burrito' 'big n’ tasty'\n",
            " 'bratwurst' 'burger king angry whopper' 'burger king double whopper'\n",
            " 'burger king double whopper with cheese'\n",
            " 'burger king original chicken sandwich'\n",
            " 'burger king premium alaskan fish sandwich' 'burger king triple whopper'\n",
            " 'burger king whopper' 'burger king whopper jr.'\n",
            " 'burger king whopper with cheese' 'cheeseburger' 'chicken breast'\n",
            " 'chicken fajita' 'chicken mcnuggets' 'chicken nuggets' 'chicken pizziola'\n",
            " 'chicken sandwich' 'chicken teriyaki sandwich' 'chicken wings'\n",
            " 'chop suey' 'curly fries' 'double cheeseburger' 'egg roll' 'falafel'\n",
            " 'filet-o-fish' 'fish sandwich' 'french fries' 'grilled chicken salad'\n",
            " 'ham sandwich' 'hamburger' 'hot dog' 'italian bmt' 'lasagna'\n",
            " 'mcdonald’s big mac' 'mcdonald’s cheeseburger'\n",
            " 'mcdonald’s chicken nuggets' 'mcdonald’s double cheeseburger'\n",
            " 'mcdonald’s filet-o-fish' 'mcdonald’s mcchicken' 'mcdonald’s mcdouble'\n",
            " 'mcdonald’s mcmuffi egg' 'mcdonald’s mcrib' 'mcdonald’s mighty wings'\n",
            " 'mcrib' 'meatball sandwich' 'nachos with cheese' 'onion rings' 'poutine'\n",
            " 'smoked salmon' 'spicy italian' 'subway club sandwich' 'tortilla wrap'\n",
            " 'tuna' 'turkey' 'veggie burger' 'veggie delight' 'veggie patty'\n",
            " 'wendy’s baconator' 'wendy’s jr. bacon cheeseburger'\n",
            " 'wendy’s jr. cheeseburger' 'wendy’s son of baconator' 'whopper' 'zinger'\n",
            " 'zinger burger']\n",
            "[ 14  15  17  18  40  41  46  56  60  76  88  89  94  95  97 103 126 129\n",
            " 130 140 142 151 162 165 188 190 195 214 215 221 225 226 227 241 253 257\n",
            " 258 263 266 322 324 333 336 338 339 353 361 365 386 394 400 406 417 433\n",
            " 459 466 478 487 499 500 516 535 540   0   5   6   7  19  25  49  50  52\n",
            "  83 102 135 154 167 168 172 197 211 224 228 233 250 252 256 264 267 273\n",
            " 284 285 315 319 329 342 351 354 356 359 367 369 371 379 380 382 398 401\n",
            " 402 404 409 468 469 481 483 517  22  23  24  32  39  45  47  48  51  59\n",
            "  73  74  79 107 109 111 115 118 122 127 128 136 143 146 149 170 174 175\n",
            " 178 189 191 199 208 209 229 234 244 251 255 261 274 276 291 305 308 326\n",
            " 343 347 348 352 355 357 362 368 373 385 387 393 403 405 408 412 413 423\n",
            " 426 427 436 439 442 443 454 464 465 479 482 536   4  26  27  61  62 145\n",
            " 147 148 152 153 185 201 204 217 232 254 310 311 312 334 360 381 390 391\n",
            " 399 416 418 420 428 438 455 456 457 477 492 493 523 524 526 527 528 532\n",
            " 533   2   8  13  20  21  82 137 144 150 202 222 238 269 309 325 335 337\n",
            " 349 350 358 384 395 410 419 422 432 434 451 476 489 505 515 525   3  34\n",
            "  35  36  38  53  57  58  77  90  91 104 106 110 113 120 123 125 155 156\n",
            " 157 158 159 160 161 163 206 219 220 248 265 270 307 313 321 332 341 346\n",
            " 388 396 430 474 485 488 490 503 504 507 508 518  28  42  75  92 131 132\n",
            " 134 138 139 141 164 169 176 180 182 207 210 239 243 245 246 247 277 278\n",
            " 279 280 281 282 283 302 303 314 316 414 429 444 446 447 448 470 471 475\n",
            " 498 501 502  81  85  86  96  99 171 183 186 193 196 212 216 262 268 271\n",
            " 275 287 317 344 345 363 364 370 411 415 435 437 450 452 453 462 463 480\n",
            " 491 514 530 531 539  29  30  37  43  63  78  80  87  98 116 173 177 203\n",
            " 218 231 237 290 318 320 328 330 366 374 375 376 377 397 407 421 425 431\n",
            " 440 441 460 461 472 484 486 496 506 509 513 529   1  16  55  84  93 101\n",
            " 181 184 194 213 223 240 259 272 286 288 289 323 331 372 378 383 392 424\n",
            " 449 467   9  10  11  12  31  33  44  54  64  65  66  67  68  69  70  71\n",
            "  72 100 105 108 112 114 117 119 121 124 133 166 179 187 192 198 200 205\n",
            " 230 235 236 242 249 260 292 293 294 295 296 297 298 299 300 301 304 306\n",
            " 327 340 389 445 458 473 494 495 497 510 511 512 519 520 521 522 534 537\n",
            " 538]\n",
            "               Serving Calories  Food_encoded\n",
            "0  1 artichoke (128 g)   60 cal            14\n",
            "1         1 leaf (2 g)    1 cal            15\n",
            "2       1 spear (12 g)    2 cal            17\n",
            "3  1 aubergine (458 g)  115 cal            18\n",
            "4        1 beet (82 g)   35 cal            40\n"
          ]
        }
      ]
    },
    {
      "cell_type": "markdown",
      "source": [
        "Визуализация данных"
      ],
      "metadata": {
        "id": "8HQQeE0gi90G"
      }
    },
    {
      "cell_type": "code",
      "source": [
        "plt.hist(df['Calories'], bins=20, color='skyblue', edgecolor='black')\n",
        "plt.xlabel('Calories')\n",
        "plt.ylabel('Frequency')\n",
        "plt.title('Distribution of Calories')\n",
        "plt.show()"
      ],
      "metadata": {
        "colab": {
          "base_uri": "https://localhost:8080/",
          "height": 472
        },
        "id": "8deExLtKhZuz",
        "outputId": "828a6b73-e858-4df2-8eba-0953a2741f4c"
      },
      "execution_count": null,
      "outputs": [
        {
          "output_type": "display_data",
          "data": {
            "text/plain": [
              "<Figure size 640x480 with 1 Axes>"
            ],
            "image/png": "[encoded data removed]"
          },
          "metadata": {}
        }
      ]
    },
    {
      "cell_type": "markdown",
      "source": [
        "Построение модель для прогнозирования калорийности продуктов на основе других признаков"
      ],
      "metadata": {
        "id": "t2_NRIBhjRaX"
      }
    },
    {
      "cell_type": "code",
      "source": [
        "from sklearn.model_selection import train_test_split\n",
        "from sklearn.linear_model import LinearRegression\n",
        "from sklearn.metrics import mean_squared_error, mean_absolute_error\n",
        "import re"
      ],
      "metadata": {
        "id": "0ni6X_SZl2ex"
      },
      "execution_count": null,
      "outputs": []
    },
    {
      "cell_type": "code",
      "source": [
        "import pandas as pd\n",
        "import matplotlib.pyplot as plt\n",
        "import re\n",
        "from sklearn.model_selection import train_test_split\n",
        "from sklearn.linear_model import LinearRegression\n",
        "from sklearn.metrics import mean_squared_error, mean_absolute_error\n",
        "\n",
        "# Загрузка данных\n",
        "df = pd.read_csv(\"Food and Calories - Sheet1.csv\")\n",
        "\n",
        "# Посмотрим на первые несколько строк датасета\n",
        "print(df.head())\n",
        "\n",
        "# Проверим общую информацию о данных\n",
        "print(df.info())\n",
        "\n",
        "# Проверим наличие пропущенных значений\n",
        "print(df.isnull().sum())\n",
        "\n",
        "# Опишем числовые признаки\n",
        "print(df.describe())\n",
        "\n",
        "# Проверим уникальные значения в столбце \"Serving\"\n",
        "print(df['Serving'].unique())\n",
        "\n",
        "# Преобразуем категориальный признак \"Food\" в числовой при помощи кодировки\n",
        "from sklearn.preprocessing import LabelEncoder\n",
        "\n",
        "label_encoder = LabelEncoder()\n",
        "df['Food_encoded'] = label_encoder.fit_transform(df['Food'].str.lower())\n",
        "\n",
        "# Посмотрим на уникальные значения после кодировки\n",
        "print(df['Food_encoded'].unique())\n",
        "\n",
        "# Удалим столбец \"Food\", так как у нас есть его числовое представление\n",
        "df.drop(columns=['Food'], inplace=True)\n",
        "\n",
        "# Функция для извлечения числовых значений из строки\n",
        "def extract_numeric_value(s):\n",
        "    if isinstance(s, str):\n",
        "        numeric_part = re.search(r'\\d+\\.?\\d*', s)\n",
        "        if numeric_part:\n",
        "            return float(numeric_part.group())\n",
        "    return None  # Вернем None для строк, которые не содержат числовых значений\n",
        "\n",
        "# Преобразуем значения столбца 'Serving' в числовой формат\n",
        "df['Serving'] = df['Serving'].apply(extract_numeric_value)\n",
        "\n",
        "# Преобразуем 'Calories' в числовой формат\n",
        "df['Calories'] = df['Calories'].str.extract(r'(\\d+)').astype(float)\n",
        "\n",
        "# Проверим данные после преобразований\n",
        "print(df.head())\n",
        "\n",
        "# Удалим строки с пропущенными значениями в столбцах 'Serving' и 'Calories'\n",
        "df.dropna(subset=['Serving', 'Calories'], inplace=True)\n",
        "\n",
        "# Проверим, сколько строк осталось после очистки данных\n",
        "print(f\"Количество строк после очистки данных: {len(df)}\")\n",
        "\n",
        "# Разделим данные на признаки (X) и целевую переменную (y)\n",
        "X = df.drop(columns=['Calories'])\n",
        "y = df['Calories']\n",
        "\n",
        "# Разделим данные на обучающий и тестовый наборы\n",
        "X_train, X_test, y_train, y_test = train_test_split(X, y, test_size=0.2, random_state=42)\n",
        "\n",
        "# Создадим и обучим модель линейной регрессии\n",
        "model = LinearRegression()\n",
        "model.fit(X_train, y_train)\n",
        "\n",
        "# Сделаем предсказания на тестовом наборе\n",
        "y_pred = model.predict(X_test)\n",
        "\n",
        "# Оценим качество модели\n",
        "mse = mean_squared_error(y_test, y_pred)\n",
        "mae = mean_absolute_error(y_test, y_pred)\n",
        "\n",
        "print(\"Mean Squared Error:\", mse)\n",
        "print(\"Mean Absolute Error:\", mae)"
      ],
      "metadata": {
        "colab": {
          "base_uri": "https://localhost:8080/"
        },
        "id": "YyIvmFr5mVpv",
        "outputId": "0af9cce8-4f68-4390-c729-bb3fb6f4821d"
      },
      "execution_count": null,
      "outputs": [
        {
          "output_type": "stream",
          "name": "stdout",
          "text": [
            "        Food              Serving Calories\n",
            "0  Artichoke  1 artichoke (128 g)   60 cal\n",
            "1    Arugula         1 leaf (2 g)    1 cal\n",
            "2  Asparagus       1 spear (12 g)    2 cal\n",
            "3  Aubergine  1 aubergine (458 g)  115 cal\n",
            "4   Beetroot        1 beet (82 g)   35 cal\n",
            "<class 'pandas.core.frame.DataFrame'>\n",
            "RangeIndex: 562 entries, 0 to 561\n",
            "Data columns (total 3 columns):\n",
            " #   Column    Non-Null Count  Dtype \n",
            "---  ------    --------------  ----- \n",
            " 0   Food      562 non-null    object\n",
            " 1   Serving   562 non-null    object\n",
            " 2   Calories  562 non-null    object\n",
            "dtypes: object(3)\n",
            "memory usage: 13.3+ KB\n",
            "None\n",
            "Food        0\n",
            "Serving     0\n",
            "Calories    0\n",
            "dtype: int64\n",
            "          Food         Serving Calories\n",
            "count      562             562      562\n",
            "unique     541             381      307\n",
            "top     Olives  1 tbsp (14 ml)  124 cal\n",
            "freq         2              30       15\n",
            "['1 artichoke (128 g)' '1 leaf (2 g)' '1 spear (12 g)'\n",
            " '1 aubergine (458 g)' '1 beet (82 g)' '1 pepper (73 g)' '1 olive (2.7 g)'\n",
            " '1 bunch (608 g)' '1 sprout (19 g)' '1 head (908 g)' '1 pepper (45 g)'\n",
            " '1 carrot (61 g)' '1 floweret (13 g)' '1 stalk (40 g)' '1 leaf (48 g)'\n",
            " '1 cherry tomato (20 g)' '1 head (53 g)' '1 head (840 g)'\n",
            " '1 tbsp, chopped (3 g)' '1 cup, raw (36 g)' '1 cup (154 g)'\n",
            " '1 courgette (196 g)' '1 cup (200 g)' '1 cucumber (410 g)'\n",
            " '1 eggplant (458 g)' '1 head (513 g)' '1 bulb (234 g)' '1 clove (3 g)'\n",
            " '1 gherkin (65 g)' '1 gourd (771 g)' '1 cup (110 g)'\n",
            " '1 green onion (15 g)' '1 tbsp (15 g)' '1 cup, chopped (67 g)'\n",
            " '1 kohlrabi (400 g)' '1 kumara (130 g)' '1 leek (89 g)' '1 head (600 g)'\n",
            " '1 mushroom (5.4 g)' '1 cup, chopped (56 g)' '1 sheet (2.6 g)'\n",
            " '1 pod (12 g)' '1 onion (85 g)' '1 parsnip (170 g)' '1 cup (98 g)'\n",
            " '1 pepper (75 g)' '1 potato (213 g)' '1 pumpkin (196 g)'\n",
            " '1 radish (4.5 g)' '1 leaf (22 g)' '1 rutabaga (386 g)'\n",
            " '1 shallot (25 g)' '1 bunch (340 g)' '1 squash (196 g)'\n",
            " '1 potato (130 g)' '1 tomato (111 g)' '1 turnip green (170 g)'\n",
            " '1 turnip (122 g)' '1 root (169 g)' '1 squash (431 g)'\n",
            " '1 zucchini (196 g)' '1 oz. (28.35 g)' '1 apple (182 g)' '1 cup (246 g)'\n",
            " '1 apricot (35 g)' '1 avocado (200 g)' '1 banana (125 g)' '1 cup (144 g)'\n",
            " '1 serving (140 g)' '1 cup (148 g)' '1 wedge (69 g)' '1 cherry (8 g)'\n",
            " '1 clementine (74 g)' '1 cup (100 g)' '1 cup (112 g)'\n",
            " '1 custard apple (135 g)' '1 date (7.1 g)' '1 fig (50 g)' '1 cup (249 g)'\n",
            " '1 cup (151 g)' '1 fruit (5 g)' '1 guava (55 g)' '1 liwi (183 g)'\n",
            " '1 lemon (58 g)' '1 lime (67 g)' '1 lychee (10 g)'\n",
            " '1 mandarin orange (88 g)' '1 mango (336 g)' '1 minneola (109 g)'\n",
            " '1 cup (140 g)' '1 nectarine (150 g)' '1 orange (131 g)'\n",
            " '1 fruit (500 g)' '1 passoin fruit (18 g)' '1 peach (150 g)'\n",
            " '1 pear (178 g)' '1 fruit (25 g)' '1 berry (5 g)' '1 pineapple (905 g)'\n",
            " '1 plantain (179 g)' '1 plum (66 g)' '1 pomegranate (282 g)'\n",
            " '1 quince (92 g)' '1 cup (145 g)' '1 rambutan (9 g)' '1 cup (123 g)'\n",
            " '1 stalk (51 g)' '1 star fruit (91 g)' '1 cup (152 g)' '1 tamarind (2 g)'\n",
            " '1 tangerine (88 g)' '1 wedge (286 g)' '1 serving (139 g)'\n",
            " '1 serving (214 g)' '1 cup (260 g)' '1 rib (141 g)' '1 cup (196 g)'\n",
            " '1 cup (275 g)' '1 pudding (40 g)' '1/2 cup (100 g)' '1 item (240 g)'\n",
            " '1 cup (185 g)' '1 burrito (200 g)' '1 tray (350 g)' '1 roll (35 g)'\n",
            " '1 salad (309 g)' '1 steak (280 g)' '1 serving (2301 g)'\n",
            " '1 piece (227 g)' '1 pie (302 g)' '1 serving (241 g)' '1 cup (253 g)'\n",
            " '1 item (180 g)' '1 serving (536 g)' '1 cup (45 g)' '1 item (175 g)'\n",
            " '1 can (213 g)' '1 pie (376 g)' '1/2 cup (92 g)' '1/2 egg (31 g)'\n",
            " '1 piece (19 g)' '1 serving (435 g)' '1 enchilada (192 g)'\n",
            " '1 serving (248 g)' '1 serving (300 g)' '1 serving (356 g)'\n",
            " '1 shrimp (27 g)' '1 sandwich (136 g)' '1 sandwich (146 g)'\n",
            " '1 cup (250 g)' '1 kebab (360 g)' '1 serving (215 g)' '1 serving (189 g)'\n",
            " '1 cup (210 g)' '1 pie (120 g)' '1 loaf (284 g)' '1 bread (84 g)'\n",
            " '1 serving (162 g)' '1/2 package (128 g)' '1 paratha (80 g)'\n",
            " '1 sandwich (49 g)' '1/2 duck (178 g)' '1 sandwich (120 g)'\n",
            " '1 slice (102 g)' '1 chop (131 g)' '1/3 cup (95 g)' '1 sandwich (261 g)'\n",
            " '1 package, dry (85 g)' '5 ravioli (66 g)' '1 sandwich (308 g)'\n",
            " '1 slice (21 g)' '1 slice (121 g)' '1 samosa (50 g)' '1 roll (103 g)'\n",
            " '1 roll (34 g)' '1 pie (227 g)' '1 oz. (28 g)' '1/2 cup (142 g)'\n",
            " '1 bun (258 g)' '1 serving (283 g)' '1 roll (140 g)' '1 taco (98 g)'\n",
            " '1 serving (175 g)' '1 pudding (15 g)' '1 cup (193 g)' '1 cup (157 g)'\n",
            " '1 cup (31 g)' '1 cup (195 g)' '1 cup (170 g)' '1 cup (164 g)'\n",
            " '1 waffle (40 g)' '1 cup (122 g)' '1 cup (128 g)' '1 cup (173 g)'\n",
            " '1 cracker (7 g)' '1 tbsp (30 g)' '1 cup (168 g)' '1 cup (160 g)'\n",
            " '1 grissini (5 g)' '1 cup (186 g)' '1 cup (174 g)' '1 cup (94 g)'\n",
            " '1 cup (150 g)' '1 cracker (3 g)' '20 sticks (12 g)' '1 rusk (10 g)'\n",
            " '40 grams (40 g)' '1 cookie (19 g)' '1 cup (167 g)' '1 tortilla (197 g)'\n",
            " '20 chips (32 g)' '1 cup (58 g)' '1 cup (113 g)' '1 tsp (3 g)'\n",
            " '1 cup (120 g)' '1 cup (80 g)' '1 tbsp (14 ml)' '1 tbsp (15 ml)'\n",
            " '1 cup (248 g)' '1 cup (252 g)' '1 cup (240 g)' '1 cup (244 g)'\n",
            " '1 cup (213 g)' '1 can (303 g)' '1 cup (237 g)' '1 cup (245 g)'\n",
            " '1 serving (381 g)' '1 cup (241 g)' '1 cup (243 g)' '1 serving (310 g)'\n",
            " '1 serving (187 g)' '1 package (85 g)' '1 serving (240 g)'\n",
            " '1 cup (192 g)' '1 cup (247 g)' '1 cup (235 g)' '1 scoop (71 g)'\n",
            " '1 scoop (92 g)' '1 scoop (113 g)' '1 cup (212 g)' '1 scoop (72 g)'\n",
            " '1 cup (220 g)' '1 scoop (142 g)' '1/2 cup (65 g)' '1 mcflurry (183 g)'\n",
            " '1 cone (141 g)' '1 scoop (66 g)' '1 bar (64 g)' '1 sundae (179 g)'\n",
            " '1 bar (112 g)' '1 sundae (178 g)' '1 scoop (103 g)' '1 magnum (86 g)'\n",
            " '1 magnum (85 g)' '1 mcflurry (134 g)' '1 mini milk (25 g)'\n",
            " '1 mcflurry (202 g)' '1 bar (50 g)' '1 cup (86 g)' '1 solero (75 g)'\n",
            " '1 sandwich (70 g)' '1 cone (142 g)' '2 oz. (56 g)' '1 dampfnudel (85 g)'\n",
            " '1 cup (38 g)' '1 sheet (21 g)' '1 cup (114 g)' '3 pierogi (100 g)'\n",
            " '1 cup (85 g)' '1 cup (102 g)' '1 slice (132 g)' '1 slice (140 g)'\n",
            " '1 slice (235 g)' '1 slice (187 g)' '1 slice (238 g)' '1 slice (108 g)'\n",
            " '1 calzone (364 g)' '1 slice (74 g)' '1 slice (63 g)' '1 slice (118 g)'\n",
            " '1 slice (159 g)' '1 slice (113 g)' '1 slice (124 g)' '1 slice (134 g)'\n",
            " '1 slice (62 g)' '1 slice (288 g)' '1 slice (123 g)' '1 slice (103 g)'\n",
            " '1 slice (71 g)' '2 oz. (57 g)' '1 slice (149 g)' '1 roll (14 g)'\n",
            " '1 slice (133 g)' '1 slice (86 g)' '1 slice (72 g)' '1 slice (76 g)'\n",
            " '1 slice (91 g)' '1 square (56 g)' '1 slice (60 g)' '1 slice (125 g)'\n",
            " '1 slice (156 g)' '1 slice (114 g)' '1 slice (232 g)' '1 acerola (4.8 g)'\n",
            " '1/4 breadfruit (96 g)' '1 wedge (125 g)' '1 cherimoya (235 g)'\n",
            " '1 dragonfruit (200 g)' '1 durian (602 g)' '1 feijoa (42 g)'\n",
            " '1 melon (130 g)' '1/2 grapefruit (123 g)' '1 kiwi (183 g)'\n",
            " '1 kumquat (19 g)' '1 madarin orange (90 g)' '1 serving (80 g)'\n",
            " '1 maracuya (18 g)' '1 cherry (5 g)' '1 oz. (28.4 g)'\n",
            " '1 passion fruit (18 g)' '1 pomelo (609 g)' '1 pad, peeled (19 g)'\n",
            " '1 sapodilla (170 g)' '1 soursop fruit (625 g)' '1 starfruit (91 g)'\n",
            " '1 sandwich (233 g)' '1 burger (154 g)' '1 rib (67 g)'\n",
            " '1 burrito (190 g)' '1 sandwich (232 g)' '1 piece (85 g)'\n",
            " '1 burger (290 g)' '1 burger (374 g)' '1 sandwich (399 g)'\n",
            " '1 sandwich (219 g)' '1 burger (228 g)' '1 burger (547 g)'\n",
            " '1 burger (291 g)' '1 burger (148 g)' '1 burger (315 g)'\n",
            " '1 burger (156 g)' '1 piece (71 g)' '1 sandwich (222 g)'\n",
            " '1 nugget (16 g)' '1 piece (20 g)' '1 sandwich (320 g)'\n",
            " '1 sandwich (170 g)' '1 sandwich (266 g)' '1 piece (29 g)'\n",
            " '1 serving (340 g)' '1 serving (128 g)' '1 burger (155 g)'\n",
            " '1 roll (80 g)' '1 patty (17 g)' '1 sandwich (142 g)'\n",
            " '1 sandwich (158 g)' '1 serving (71 g)' '1 salad (305 g)'\n",
            " '1 sandwich (110 g)' '1 hot dog (116 g)' '1 sandwich (224 g)'\n",
            " '1 piece (130 g)' '1 burger (219 g)' '1 sandwich (114 g)'\n",
            " '1 burger (143 g)' '1 burger (160 g)' '1 burger (129 g)' '1 wing (31 g)'\n",
            " '1 sandwich (299 g)' '10 nachos (188 g)' '1 ring (6.5 g)'\n",
            " '1 serving (225 g)' '1 sandwich (238 g)' '1 wrap (63 g)'\n",
            " '1 burger (215 g)' '1 sandwich (166 g)' '1 sandwich (247 g)'\n",
            " '1 burger (276 g)' '1 burger (161 g)' '1 burger (218 g)'\n",
            " '1 sandwich (202 g)']\n",
            "[ 14  15  17  18  40  41  46  56  60  76  88  89  94  95  97 103 126 129\n",
            " 130 140 142 151 162 165 188 190 195 214 215 221 225 226 227 241 253 257\n",
            " 258 263 266 322 324 333 336 338 339 353 361 365 386 394 400 406 417 433\n",
            " 459 466 478 487 499 500 516 535 540   0   5   6   7  19  25  49  50  52\n",
            "  83 102 135 154 167 168 172 197 211 224 228 233 250 252 256 264 267 273\n",
            " 284 285 315 319 329 342 351 354 356 359 367 369 371 379 380 382 398 401\n",
            " 402 404 409 468 469 481 483 517  22  23  24  32  39  45  47  48  51  59\n",
            "  73  74  79 107 109 111 115 118 122 127 128 136 143 146 149 170 174 175\n",
            " 178 189 191 199 208 209 229 234 244 251 255 261 274 276 291 305 308 326\n",
            " 343 347 348 352 355 357 362 368 373 385 387 393 403 405 408 412 413 423\n",
            " 426 427 436 439 442 443 454 464 465 479 482 536   4  26  27  61  62 145\n",
            " 147 148 152 153 185 201 204 217 232 254 310 311 312 334 360 381 390 391\n",
            " 399 416 418 420 428 438 455 456 457 477 492 493 523 524 526 527 528 532\n",
            " 533   2   8  13  20  21  82 137 144 150 202 222 238 269 309 325 335 337\n",
            " 349 350 358 384 395 410 419 422 432 434 451 476 489 505 515 525   3  34\n",
            "  35  36  38  53  57  58  77  90  91 104 106 110 113 120 123 125 155 156\n",
            " 157 158 159 160 161 163 206 219 220 248 265 270 307 313 321 332 341 346\n",
            " 388 396 430 474 485 488 490 503 504 507 508 518  28  42  75  92 131 132\n",
            " 134 138 139 141 164 169 176 180 182 207 210 239 243 245 246 247 277 278\n",
            " 279 280 281 282 283 302 303 314 316 414 429 444 446 447 448 470 471 475\n",
            " 498 501 502  81  85  86  96  99 171 183 186 193 196 212 216 262 268 271\n",
            " 275 287 317 344 345 363 364 370 411 415 435 437 450 452 453 462 463 480\n",
            " 491 514 530 531 539  29  30  37  43  63  78  80  87  98 116 173 177 203\n",
            " 218 231 237 290 318 320 328 330 366 374 375 376 377 397 407 421 425 431\n",
            " 440 441 460 461 472 484 486 496 506 509 513 529   1  16  55  84  93 101\n",
            " 181 184 194 213 223 240 259 272 286 288 289 323 331 372 378 383 392 424\n",
            " 449 467   9  10  11  12  31  33  44  54  64  65  66  67  68  69  70  71\n",
            "  72 100 105 108 112 114 117 119 121 124 133 166 179 187 192 198 200 205\n",
            " 230 235 236 242 249 260 292 293 294 295 296 297 298 299 300 301 304 306\n",
            " 327 340 389 445 458 473 494 495 497 510 511 512 519 520 521 522 534 537\n",
            " 538]\n",
            "   Serving  Calories  Food_encoded\n",
            "0      1.0      60.0            14\n",
            "1      1.0       1.0            15\n",
            "2      1.0       2.0            17\n",
            "3      1.0     115.0            18\n",
            "4      1.0      35.0            40\n",
            "Количество строк после очистки данных: 562\n",
            "Mean Squared Error: 73053.82923472847\n",
            "Mean Absolute Error: 180.29258507869795\n"
          ]
        }
      ]
    },
    {
      "cell_type": "code",
      "source": [],
      "metadata": {
        "id": "m41YjRsAwCYr"
      },
      "execution_count": null,
      "outputs": []
    }
  ]
}