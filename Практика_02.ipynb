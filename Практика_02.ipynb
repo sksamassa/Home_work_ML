{
  "nbformat": 4,
  "nbformat_minor": 0,
  "metadata": {
    "colab": {
      "provenance": []
    },
    "kernelspec": {
      "name": "python3",
      "display_name": "Python 3"
    },
    "language_info": {
      "name": "python"
    }
  },
  "cells": [
    {
      "cell_type": "markdown",
      "source": [
        "**Задание**\n",
        "Поэкспериментируйте со всеми видами деревьев и ансамблей, попробуйте достичь точности на тестовом наборе больше 0,947."
      ],
      "metadata": {
        "id": "h7q-OqbRmbBK"
      }
    },
    {
      "cell_type": "markdown",
      "source": [
        "Let's import the necessary libraries"
      ],
      "metadata": {
        "id": "t_yHDzUimf8c"
      }
    },
    {
      "cell_type": "code",
      "source": [
        "from sklearn.model_selection import GridSearchCV\n",
        "from sklearn.metrics import accuracy_score\n",
        "from sklearn.datasets import load_iris\n",
        "from sklearn.model_selection import train_test_split\n",
        "from sklearn.tree import DecisionTreeClassifier\n",
        "from sklearn.ensemble import RandomForestClassifier, GradientBoostingClassifier"
      ],
      "metadata": {
        "id": "HZJtPHfwogim"
      },
      "execution_count": 1,
      "outputs": []
    },
    {
      "cell_type": "markdown",
      "source": [
        "Load Iris dataset"
      ],
      "metadata": {
        "id": "XTug-Uk7olu3"
      }
    },
    {
      "cell_type": "code",
      "source": [
        "iris = load_iris()\n",
        "X, y = iris.data, iris.target"
      ],
      "metadata": {
        "id": "FII_d86LotSH"
      },
      "execution_count": 2,
      "outputs": []
    },
    {
      "cell_type": "code",
      "source": [
        "# Разделение данных на обучающий и тестовый наборы\n",
        "X_train, X_test, y_train, y_test = train_test_split(X, y, test_size=0.25, random_state=42)"
      ],
      "metadata": {
        "id": "F3Tsq8Cao0zW"
      },
      "execution_count": 3,
      "outputs": []
    },
    {
      "cell_type": "code",
      "source": [
        "# Список моделей для проверки\n",
        "models = {\n",
        "    \"Decision Tree\": DecisionTreeClassifier(),\n",
        "    \"Random Forest\": RandomForestClassifier(),\n",
        "    \"Gradient Boosting\": GradientBoostingClassifier()\n",
        "}"
      ],
      "metadata": {
        "id": "zouUos5Po4ns"
      },
      "execution_count": 4,
      "outputs": []
    },
    {
      "cell_type": "code",
      "source": [
        "# Параметры для проверки каждой модели\n",
        "params = {\n",
        "    \"Decision Tree\": {\"max_depth\": [None, 3, 5, 7]},\n",
        "    \"Random Forest\": {\"n_estimators\": [50, 100, 150], \"max_depth\": [None, 3, 5, 7]},\n",
        "    \"Gradient Boosting\": {\"n_estimators\": [50, 100, 150], \"learning_rate\": [0.01, 0.1, 0.2]}\n",
        "}"
      ],
      "metadata": {
        "id": "4N4VtG1Uo9CC"
      },
      "execution_count": 5,
      "outputs": []
    },
    {
      "cell_type": "code",
      "execution_count": 6,
      "metadata": {
        "colab": {
          "base_uri": "https://localhost:8080/"
        },
        "id": "NubTKaOAdhff",
        "outputId": "8b418a69-717c-45e3-9e84-d16e3746ddda"
      },
      "outputs": [
        {
          "output_type": "stream",
          "name": "stdout",
          "text": [
            "Model: Decision Tree\n",
            "Best Parameters: {'max_depth': None}\n",
            "Accuracy on Test Set: 1.000\n",
            "---------------------------------------\n",
            "Model: Random Forest\n",
            "Best Parameters: {'max_depth': 3, 'n_estimators': 150}\n",
            "Accuracy on Test Set: 1.000\n",
            "---------------------------------------\n",
            "Model: Gradient Boosting\n",
            "Best Parameters: {'learning_rate': 0.01, 'n_estimators': 50}\n",
            "Accuracy on Test Set: 1.000\n",
            "---------------------------------------\n"
          ]
        }
      ],
      "source": [
        "# Подбор параметров и оценка точности для каждой модели\n",
        "for name, model in models.items():\n",
        "    grid_search = GridSearchCV(model, params[name], cv=5)\n",
        "    grid_search.fit(X_train, y_train)\n",
        "    best_model = grid_search.best_estimator_\n",
        "    best_params = grid_search.best_params_\n",
        "    y_pred = best_model.predict(X_test)\n",
        "    accuracy = accuracy_score(y_test, y_pred)\n",
        "    print(f\"Model: {name}\")\n",
        "    print(f\"Best Parameters: {best_params}\")\n",
        "    print(f\"Accuracy on Test Set: {accuracy:.3f}\")\n",
        "    print(\"---------------------------------------\")"
      ]
    }
  ]
}